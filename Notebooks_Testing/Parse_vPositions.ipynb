{
 "cells": [
  {
   "cell_type": "code",
   "execution_count": 1,
   "metadata": {},
   "outputs": [],
   "source": [
    "import requests\n",
    "import pandas as pd\n",
    "import json\n",
    "from google.transit import gtfs_realtime_pb2"
   ]
  },
  {
   "cell_type": "code",
   "execution_count": 14,
   "metadata": {},
   "outputs": [],
   "source": [
    "key_file_path = '/Users/sarangpramode/Desktop/SPEC/SPEC MAIN/codebase/MTA_API_KEY.json'\n",
    "\n",
    "with open('/Users/sarangpramode/Desktop/SPEC/SPEC MAIN/codebase/MTA_API_KEY.json', 'r') as f:\n",
    "  data = json.load(f)\n",
    "\n",
    "api_key = data['API_KEY']"
   ]
  },
  {
   "cell_type": "code",
   "execution_count": 8,
   "metadata": {},
   "outputs": [],
   "source": [
    "GTFS_RT_Endpoints = {\n",
    "    'tUpdates' : 'http://gtfsrt.prod.obanyc.com/tripUpdates?key='+api_key+'',\n",
    "    'vPositions' : 'http://gtfsrt.prod.obanyc.com/vehiclePositions?key='+api_key+'',\n",
    "    'alerts' : 'http://gtfsrt.prod.obanyc.com/alerts?key='+api_key+''\n",
    "}"
   ]
  },
  {
   "cell_type": "code",
   "execution_count": 9,
   "metadata": {},
   "outputs": [],
   "source": [
    "#create enpoint\n",
    "GTFS_RT_feed = 'vPositions'\n",
    "Req_endpoint = GTFS_RT_Endpoints[GTFS_RT_feed]"
   ]
  },
  {
   "cell_type": "code",
   "execution_count": 10,
   "metadata": {},
   "outputs": [
    {
     "data": {
      "text/plain": [
       "178280"
      ]
     },
     "execution_count": 10,
     "metadata": {},
     "output_type": "execute_result"
    }
   ],
   "source": [
    "feed = gtfs_realtime_pb2.FeedMessage() #create feedmessage buffer\n",
    "response = requests.get(Req_endpoint) #GET request and save the response\n",
    "\n",
    "# TODO \n",
    "# Write handler for failed responses\n",
    "feed.ParseFromString(response.content) #parse the response(protobuf) and store in feed"
   ]
  },
  {
   "cell_type": "code",
   "execution_count": 13,
   "metadata": {},
   "outputs": [
    {
     "name": "stdout",
     "output_type": "stream",
     "text": [
      "id: \"MTA NYCT_4081\"\n",
      "vehicle {\n",
      "  trip {\n",
      "    trip_id: \"MV_B2-Sunday-072900_M116_702\"\n",
      "    start_date: \"20220424\"\n",
      "    route_id: \"M116\"\n",
      "    direction_id: 0\n",
      "  }\n",
      "  position {\n",
      "    latitude: 40.7990608215332\n",
      "    longitude: -73.96244812011719\n",
      "    bearing: 337.1585693359375\n",
      "  }\n",
      "  timestamp: 1650816668\n",
      "  stop_id: \"401038\"\n",
      "  vehicle {\n",
      "    id: \"MTA NYCT_4081\"\n",
      "  }\n",
      "}\n",
      "\n"
     ]
    }
   ],
   "source": [
    "#Return first Vehicle position as a Test\n",
    "print(feed.entity[0])"
   ]
  },
  {
   "cell_type": "code",
   "execution_count": null,
   "metadata": {},
   "outputs": [],
   "source": []
  }
 ],
 "metadata": {
  "interpreter": {
   "hash": "40d3a090f54c6569ab1632332b64b2c03c39dcf918b08424e98f38b5ae0af88f"
  },
  "kernelspec": {
   "display_name": "Python 3.8.8 ('base')",
   "language": "python",
   "name": "python3"
  },
  "language_info": {
   "codemirror_mode": {
    "name": "ipython",
    "version": 3
   },
   "file_extension": ".py",
   "mimetype": "text/x-python",
   "name": "python",
   "nbconvert_exporter": "python",
   "pygments_lexer": "ipython3",
   "version": "3.8.8"
  },
  "orig_nbformat": 4
 },
 "nbformat": 4,
 "nbformat_minor": 2
}
